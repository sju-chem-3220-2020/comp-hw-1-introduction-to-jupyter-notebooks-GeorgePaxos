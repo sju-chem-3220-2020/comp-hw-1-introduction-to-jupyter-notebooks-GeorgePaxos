{
 "cells": [
  {
   "cell_type": "code",
   "execution_count": 1,
   "metadata": {},
   "outputs": [
    {
     "name": "stdout",
     "output_type": "stream",
     "text": [
      "Hello World\n"
     ]
    }
   ],
   "source": [
    "print (\"Hello World\")"
   ]
  },
  {
   "cell_type": "code",
   "execution_count": 4,
   "metadata": {},
   "outputs": [
    {
     "name": "stdout",
     "output_type": "stream",
     "text": [
      "Iteration -10\n",
      "negative\n",
      "Iteration -9\n",
      "negative\n",
      "Iteration -8\n",
      "negative\n",
      "Iteration -7\n",
      "negative\n",
      "Iteration -6\n",
      "negative\n",
      "Iteration -5\n",
      "negative\n",
      "Iteration -4\n",
      "negative\n",
      "Iteration -3\n",
      "negative\n",
      "Iteration -2\n",
      "negative\n",
      "Iteration -1\n",
      "negative\n",
      "Iteration 0\n",
      "zero\n",
      "Iteration 1\n",
      "postive\n",
      "Iteration 2\n",
      "postive\n",
      "Iteration 3\n",
      "postive\n",
      "Iteration 4\n",
      "postive\n",
      "Iteration 5\n",
      "postive\n",
      "Iteration 6\n",
      "postive\n",
      "Iteration 7\n",
      "postive\n",
      "Iteration 8\n",
      "postive\n",
      "Iteration 9\n",
      "postive\n",
      "Iteration 10\n",
      "postive\n"
     ]
    }
   ],
   "source": [
    "for i in range (-10,11):\n",
    "        print (\"Iteration\",i)\n",
    "        if (i>0):\n",
    "            print (\"postive\")\n",
    "        if (i<0):\n",
    "            print (\"negative\")\n",
    "        if (i==0):\n",
    "            print (\"zero\")"
   ]
  },
  {
   "cell_type": "code",
   "execution_count": null,
   "metadata": {},
   "outputs": [],
   "source": []
  }
 ],
 "metadata": {
  "kernelspec": {
   "display_name": "Python 3",
   "language": "python",
   "name": "python3"
  },
  "language_info": {
   "codemirror_mode": {
    "name": "ipython",
    "version": 3
   },
   "file_extension": ".py",
   "mimetype": "text/x-python",
   "name": "python",
   "nbconvert_exporter": "python",
   "pygments_lexer": "ipython3",
   "version": "3.7.6"
  }
 },
 "nbformat": 4,
 "nbformat_minor": 4
}
